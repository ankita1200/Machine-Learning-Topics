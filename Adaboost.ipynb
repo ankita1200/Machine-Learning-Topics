{
  "nbformat": 4,
  "nbformat_minor": 0,
  "metadata": {
    "colab": {
      "provenance": [],
      "authorship_tag": "ABX9TyNKc75kYvrVf0RjM7WtxMLz",
      "include_colab_link": true
    },
    "kernelspec": {
      "name": "python3",
      "display_name": "Python 3"
    },
    "language_info": {
      "name": "python"
    }
  },
  "cells": [
    {
      "cell_type": "markdown",
      "metadata": {
        "id": "view-in-github",
        "colab_type": "text"
      },
      "source": [
        "<a href=\"https://colab.research.google.com/github/ankita1200/Machine-Learning-Topics/blob/main/Adaboost.ipynb\" target=\"_parent\"><img src=\"https://colab.research.google.com/assets/colab-badge.svg\" alt=\"Open In Colab\"/></a>"
      ]
    },
    {
      "cell_type": "markdown",
      "source": [
        "Write a Python function `adaboost_fit` that implements the fit method for an AdaBoost classifier. The function should take in a 2D numpy array `X` of shape `(n_samples, n_features)` representing the dataset, a 1D numpy array `y` of shape `(n_samples,)` representing the labels, and an integer `n_clf` representing the number of classifiers. The function should initialize sample weights, find the best thresholds for each feature, calculate the error, update weights, and return a list of classifiers with their parameters."
      ],
      "metadata": {
        "id": "ElviK9GaLntk"
      }
    },
    {
      "cell_type": "markdown",
      "source": [
        "Example:\n",
        "    X = np.array([[1, 2], [2, 3], [3, 4], [4, 5]])\n",
        "    y = np.array([1, 1, -1, -1])\n",
        "    n_clf = 3\n",
        "\n",
        "    clfs = adaboost_fit(X, y, n_clf)\n",
        "    print(clfs)\n",
        "    # Output (example format, actual values may vary):\n",
        "    # [{'polarity': 1, 'threshold': 2, 'feature_index': 0, 'alpha': 0.5},\n",
        "    #  {'polarity': -1, 'threshold': 3, 'feature_index': 1, 'alpha': 0.3},\n",
        "    #  {'polarity': 1, 'threshold': 4, 'feature_index': 0, 'alpha': 0.2}]\n",
        "    "
      ],
      "metadata": {
        "id": "asowy194Lnaw"
      }
    },
    {
      "cell_type": "code",
      "execution_count": 4,
      "metadata": {
        "id": "xKeGBuaCBXVE"
      },
      "outputs": [],
      "source": [
        "import numpy as np"
      ]
    },
    {
      "cell_type": "code",
      "source": [
        "class Adaboost:\n",
        "\n",
        "  def DecisionStump(self, X, y, sample_weights):\n",
        "\n",
        "    \"\"\"Decision stump is a decision tree that classfies based on 1 feature,threshold pair.\n",
        "     It has a depth of 1. It is a weak classifier\n",
        "     Returns : Returns a weak classifier.\"\"\"\n",
        "\n",
        "    n_samples, n_features = X.shape\n",
        "    min_error = float(\"inf\")\n",
        "    clf = {}\n",
        "    for feature_index in range(n_features):\n",
        "      unique_values = np.unique(X[:,feature_index])\n",
        "      for threshold in unique_values:\n",
        "        polarity = 1\n",
        "        predictions = np.ones(y.shape)\n",
        "        negative_class = X[:,feature_index] < threshold\n",
        "        predictions[negative_class] = -1\n",
        "        error_t = np.sum(sample_weights[predictions != y])\n",
        "        if error_t > 0.5:\n",
        "          error_t = 1 - error_t\n",
        "          polarity = -1\n",
        "        if error_t < min_error:\n",
        "          clf[\"polarity\"] = polarity\n",
        "          clf[\"feature_index\"] = feature_index\n",
        "          clf[\"threshold\"] = threshold\n",
        "          min_error = error_t\n",
        "    return clf, min_error\n",
        "\n",
        "\n",
        "  def fit(self,X, y, n_estimators):\n",
        "    n_samples, n_features = X.shape\n",
        "    sample_weights = np.full(n_samples, (1/n_samples))\n",
        "    clfs = []\n",
        "    for j in range(n_estimators):\n",
        "      clf,min_error = self.DecisionStump(X,y,sample_weights)\n",
        "      predictions = np.ones(y.shape)\n",
        "      # prediction using the jth weak classifier (decision stump)\n",
        "      negative_class = clf[\"polarity\"] * X[:, clf[\"feature_index\"]] < clf[\"polarity\"] * clf[\"threshold\"]\n",
        "      predictions[negative_class] = -1\n",
        "      #error_j = np.dot(sample_weights, predictions != y)\n",
        "      alpha_j = 0.5 * np.log((1-min_error)/( min_error+ 1e-10))\n",
        "      sample_weights = np.multiply(sample_weights, np.exp(-alpha_j*y*predictions))\n",
        "      # scaling the weights\n",
        "      sample_weights /= np.sum(sample_weights)\n",
        "      clf[\"alpha\"] = alpha_j\n",
        "      clfs.append(clf)\n",
        "    return clfs\n"
      ],
      "metadata": {
        "id": "_PxtrN1MBccD"
      },
      "execution_count": 30,
      "outputs": []
    },
    {
      "cell_type": "code",
      "source": [
        "adaboost_clf = Adaboost()\n",
        "X = np.array([[1, 2], [2, 3], [3, 4], [4, 5]])\n",
        "y = np.array([1, 1, -1, -1])\n",
        "n_clf = 3\n",
        "adaboost_clf.fit(X, y, n_clf)"
      ],
      "metadata": {
        "id": "FEXg6NFXBeI9",
        "colab": {
          "base_uri": "https://localhost:8080/"
        },
        "outputId": "d1505aa6-26b7-434d-f2e4-fec16f5d7a86"
      },
      "execution_count": 31,
      "outputs": [
        {
          "output_type": "execute_result",
          "data": {
            "text/plain": [
              "[{'polarity': -1,\n",
              "  'feature_index': 0,\n",
              "  'threshold': 3,\n",
              "  'alpha': 11.512925464970229},\n",
              " {'polarity': -1,\n",
              "  'feature_index': 0,\n",
              "  'threshold': 3,\n",
              "  'alpha': 11.512924909859024},\n",
              " {'polarity': -1,\n",
              "  'feature_index': 0,\n",
              "  'threshold': 1,\n",
              "  'alpha': 11.512925464970229}]"
            ]
          },
          "metadata": {},
          "execution_count": 31
        }
      ]
    }
  ]
}